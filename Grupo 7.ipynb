{
 "cells": [
  {
   "cell_type": "markdown",
   "id": "2a44fd1e",
   "metadata": {},
   "source": [
    "# Tarea 1\n"
   ]
  },
  {
   "cell_type": "markdown",
   "id": "bdacefa6",
   "metadata": {},
   "source": [
    "Fecha de entrega: \n",
    "Miercoles 11 de marzo, 2025, 11.59pm\n",
    "\n",
    "Comentarios generales:\n",
    "\n",
    "- No olvidar que python usa el snake_case (o minúsculas separadas por subguión) para llamar a sus variables. \n",
    "- No nombrar variables con acentos porque algunas veces, dependiendo de la máquina en la que se corra, esto será aceptado o no. \n",
    "- Leer  claramente qué es lo que pide la pregunta.  \n",
    "   \n"
   ]
  },
  {
   "cell_type": "markdown",
   "id": "80152401",
   "metadata": {},
   "source": [
    "Ejemplo:  Utilizando sólo los siguientes inputs numéricos: ```5``` y ```2```  , maneje los operadores tal que el output sea ```120```. Crea una variable con el resultado. "
   ]
  },
  {
   "cell_type": "code",
   "execution_count": 3,
   "id": "7601a7f9",
   "metadata": {},
   "outputs": [
    {
     "data": {
      "text/plain": [
       "120"
      ]
     },
     "execution_count": 3,
     "metadata": {},
     "output_type": "execute_result"
    }
   ],
   "source": [
    "#Respuesta\n",
    "output = (5*2)**2 + 5*2**2\n",
    "output"
   ]
  },
  {
   "cell_type": "markdown",
   "id": "a8018627",
   "metadata": {},
   "source": [
    "1.  Utilizando sólo los siguientes inputs: ```5``` y ```2```  , maneje los operadores tal que el output sea ```50```"
   ]
  },
  {
   "cell_type": "code",
   "execution_count": 14,
   "id": "1f723e46",
   "metadata": {},
   "outputs": [
    {
     "data": {
      "text/plain": [
       "50"
      ]
     },
     "execution_count": 14,
     "metadata": {},
     "output_type": "execute_result"
    }
   ],
   "source": [
    "output_1= 5*(5*2)\n",
    "output_1"
   ]
  },
  {
   "cell_type": "markdown",
   "id": "994dc4bc",
   "metadata": {},
   "source": [
    "2. Evalúa que el output del ejemplo sea mayor al output de 1. Crea una variable con esta evaluación (Hint: Será un booleano)."
   ]
  },
  {
   "cell_type": "code",
   "execution_count": 28,
   "id": "b8928779",
   "metadata": {},
   "outputs": [
    {
     "data": {
      "text/plain": [
       "True"
      ]
     },
     "execution_count": 28,
     "metadata": {},
     "output_type": "execute_result"
    }
   ],
   "source": [
    "analysis_1= 120 > 1\n",
    "analysis_1"
   ]
  },
  {
   "cell_type": "markdown",
   "id": "69918902",
   "metadata": {},
   "source": [
    "3. Utilizando sólo los siguientes inputs: ```31``` maneja los operadores tal que el output sea ```0```"
   ]
  },
  {
   "cell_type": "code",
   "execution_count": 33,
   "id": "4dcc2afa",
   "metadata": {},
   "outputs": [
    {
     "data": {
      "text/plain": [
       "0"
      ]
     },
     "execution_count": 33,
     "metadata": {},
     "output_type": "execute_result"
    }
   ],
   "source": [
    "output_2= 31 - 31\n",
    "output_2"
   ]
  },
  {
   "cell_type": "markdown",
   "id": "97cf5786",
   "metadata": {},
   "source": [
    "4.  Utilizando sólo los siguientes inputs: ```2``` (todos los 2 que necesites) maneja los operadores tal que el output sea ```5```"
   ]
  },
  {
   "cell_type": "code",
   "execution_count": 39,
   "id": "418fdb47",
   "metadata": {},
   "outputs": [
    {
     "data": {
      "text/plain": [
       "5"
      ]
     },
     "execution_count": 39,
     "metadata": {},
     "output_type": "execute_result"
    }
   ],
   "source": [
    "output_3= 2+2+ int(2/2)\n",
    "output_3"
   ]
  },
  {
   "cell_type": "markdown",
   "id": "178e7ec3",
   "metadata": {},
   "source": [
    "5. Crea una variable ```x``` y una variable ```y``` que sumen 1600. Crea una variable ```v``` que dé un booleano, tal que evalúe que ```x + y``` sea igual a 2000."
   ]
  },
  {
   "cell_type": "code",
   "execution_count": 47,
   "id": "0e75e524",
   "metadata": {},
   "outputs": [
    {
     "name": "stdout",
     "output_type": "stream",
     "text": [
      "False\n"
     ]
    }
   ],
   "source": [
    "x=800\n",
    "y=800\n",
    "v= (x+y)==2000\n",
    "print(v)"
   ]
  },
  {
   "cell_type": "markdown",
   "id": "163e5332",
   "metadata": {},
   "source": [
    "6. Cree una variable ```z``` y una variable ```a``` que sumen 1000."
   ]
  },
  {
   "cell_type": "code",
   "execution_count": 49,
   "id": "846bea9d",
   "metadata": {},
   "outputs": [
    {
     "name": "stdout",
     "output_type": "stream",
     "text": [
      "1000\n"
     ]
    }
   ],
   "source": [
    "z=a=500\n",
    "c=z+a\n",
    "print(c)"
   ]
  },
  {
   "cell_type": "markdown",
   "id": "c222c968",
   "metadata": {},
   "source": [
    "7. Calcula cuántas horas trabajan en total los 130 congresistas de nuestro país en un año. Asume que trabajan 40 horas a la semana, por 48 semanas al año (considerando que tienen vacaciones y no trabajan sobretiempo). "
   ]
  },
  {
   "cell_type": "code",
   "execution_count": 53,
   "id": "5deb8908",
   "metadata": {},
   "outputs": [
    {
     "name": "stdout",
     "output_type": "stream",
     "text": [
      "249600\n"
     ]
    }
   ],
   "source": [
    "congresistas_1=130\n",
    "horasxsemana_1=40\n",
    "semanas_año=48\n",
    "horas_año=congresistas_1*horasxsemana_1*semanas_año\n",
    "print(horas_año)"
   ]
  },
  {
   "cell_type": "markdown",
   "id": "80e32ec2",
   "metadata": {},
   "source": [
    "8. Ahora calcula el salario de un congresista por hora. Los supuestos del anterior ejercicio se mantienen (Se puede pasar por alto las vacaciones). Cabe recordar que los congresistas ganan 15,600 soles mensuales.   \n",
    "- Crea una variable para el salario por hora de un congresista.   \n",
    "- Crea una variable para la suma de los salarios por hora de los 130 congresistas.\n"
   ]
  },
  {
   "cell_type": "code",
   "execution_count": 63,
   "id": "6d98f342",
   "metadata": {},
   "outputs": [
    {
     "name": "stdout",
     "output_type": "stream",
     "text": [
      "12675\n"
     ]
    }
   ],
   "source": [
    "x=15600\n",
    "y=40\n",
    "z=4\n",
    "c=x/(y*z)\n",
    "d=130\n",
    "e=d*c\n",
    "print(int(e))"
   ]
  },
  {
   "cell_type": "markdown",
   "id": "ae512853",
   "metadata": {},
   "source": [
    "9. Con la reducción del IGV para restaurantes y hoteles (https://emprender.sunat.gob.pe/tributando/temas-actualidad/reduccion-igv-para-restaurantes-hoteles), los restaurantes pagan el 10% de IGV. Un restaurante factura 3426 soles diarios, en promedio, después de impuestos. Calcule el valor base (el IGV es 10% sobre el valor base, ó 1 + .1).\n",
    "\n",
    "Calcule, utilizando el valor base, cuánto es el descuento del IGV en soles (o el 8% de este valor base).\n",
    "\n",
    "Cree una variable para cada uno de los siguientes:\n",
    "- porcentaje de IGV \n",
    "- el total de facturación\n",
    "- el monto del impuesto\n",
    "- el valor base sin impuesto\n",
    "- el descuento de IGV en soles. Puedes comprobar tu fórmula con cualquier recibo de pago que detalle el IGV. "
   ]
  },
  {
   "cell_type": "code",
   "execution_count": null,
   "id": "51599f11",
   "metadata": {},
   "outputs": [],
   "source": []
  },
  {
   "cell_type": "markdown",
   "id": "69f6e4f9",
   "metadata": {},
   "source": [
    "10.  Cristina percibe el sueldo mínimo (1025 soles). Compruebe que el salario anual de Cristina es menor al salario anual de un congresista, usando operadores de comparación y una expresión que detalle el monto mensual y el número de meses trabajados de ambos. La comparación debe ser ser evaluada a un booleano"
   ]
  },
  {
   "cell_type": "code",
   "execution_count": 67,
   "id": "cc09bc62",
   "metadata": {},
   "outputs": [
    {
     "name": "stdout",
     "output_type": "stream",
     "text": [
      "True\n"
     ]
    }
   ],
   "source": [
    "#usando los datos expresados en ejercicios anteriores\n",
    "#asumimos supuesto anterior que trabajo 48 semanas al año y 40 horas semanales\n",
    "cristina_mensual=1025\n",
    "congresista_mensual=15600\n",
    "meses_año=12\n",
    "comparacion1= cristina_mensual*meses_año < congresista_mensual*meses_año\n",
    "print(comparacion1)"
   ]
  },
  {
   "cell_type": "markdown",
   "id": "37de8248",
   "metadata": {},
   "source": [
    "11. Una conocida petrolera debe volver a compensar a  1023 familias que se dedican a la pesca por la contaminación causada en el mar donde pescan. El nuevo monto negociado es de 1200 millones de soles, sin embargo, una cláusula del contrato dice que el monto de compensación tiene que ser un número entero. ¿Cuántos soles adicionales se le  tiene  que agregar al monto negociado para que las familias reciban una cantidad entera,  asumiendo que para lograr este número entero, hay que elevar el monto total? (Pista: Acuérdate del  floor y el módulo)."
   ]
  },
  {
   "cell_type": "code",
   "execution_count": 81,
   "id": "948141a9",
   "metadata": {},
   "outputs": [
    {
     "name": "stdout",
     "output_type": "stream",
     "text": [
      "483\n"
     ]
    }
   ],
   "source": [
    "monto_familias= 1200000000\n",
    "numero_familias= 1023\n",
    "y=monto_familias%numero_familias\n",
    "z=monto_familias/numero_familias\n",
    "x=numero_familias-y\n",
    "print(x)"
   ]
  },
  {
   "cell_type": "markdown",
   "id": "75a0de8e",
   "metadata": {},
   "source": [
    "12. Crea una variable igual a una lista que contenga:\n",
    "- un string,\n",
    "- un booleano,\n",
    "- dos valores numéricos (de cualquier tipo) y\n",
    "- una lista de dos strings con el nombre de tus artistas musicales favoritos. "
   ]
  },
  {
   "cell_type": "code",
   "execution_count": null,
   "id": "721f56c9",
   "metadata": {},
   "outputs": [],
   "source": [
    "list_1=['Pablo', 5<9, 10, 14, list_2=['SZA', 'D4vd']]"
   ]
  },
  {
   "cell_type": "markdown",
   "id": "5e64d253",
   "metadata": {},
   "source": [
    "13. Tenemos la siguiente lista de cursos: "
   ]
  },
  {
   "cell_type": "code",
   "execution_count": 8,
   "id": "8011eabe",
   "metadata": {},
   "outputs": [],
   "source": [
    "cursos = [\"Historia\", \"Economia\", \"Antropologia\", \"RSP\", \"Derecho\"]\n"
   ]
  },
  {
   "cell_type": "markdown",
   "id": "df10d9ac",
   "metadata": {},
   "source": [
    "Realiza las siguientes operaciones en bloques diferentes: \n",
    "- Calcula cuántos elementos tiene la lista."
   ]
  },
  {
   "cell_type": "code",
   "execution_count": 85,
   "id": "2610418e",
   "metadata": {},
   "outputs": [
    {
     "data": {
      "text/plain": [
       "5"
      ]
     },
     "execution_count": 85,
     "metadata": {},
     "output_type": "execute_result"
    }
   ],
   "source": [
    "cursos = [\"Historia\", \"Economia\", \"Antropologia\", \"RSP\", \"Derecho\"]\n",
    "len(cursos)"
   ]
  },
  {
   "cell_type": "markdown",
   "id": "0e1e30ac",
   "metadata": {},
   "source": [
    "13.1. Agrega tres cursos adicionales de 3 formas diferentes (uno por forma):\n",
    "   - Suma (+) una lista que contenga un curso adicional. \n",
    "   - Usa el append. \n",
    "   - Usa el extend."
   ]
  },
  {
   "cell_type": "code",
   "execution_count": 101,
   "id": "dd9e9b9f",
   "metadata": {},
   "outputs": [
    {
     "name": "stdout",
     "output_type": "stream",
     "text": [
      "['Historia', 'Economia', 'Antropologia', 'RSP', 'Derecho', 'Matematica']\n",
      "['Historia', 'Economia', 'Antropologia', 'RSP', 'Derecho', 'Matematica', 'Psicologia']\n",
      "['Historia', 'Economia', 'Antropologia', 'RSP', 'Derecho', 'Matematica', 'Psicologia', 'Fisica']\n"
     ]
    }
   ],
   "source": [
    "cursos = [\"Historia\", \"Economia\", \"Antropologia\", \"RSP\", \"Derecho\"]\n",
    "list_1=['Matematica']\n",
    "suma_1=cursos + list_1\n",
    "print(suma_1)\n",
    "suma_1.append('Psicologia')\n",
    "print(suma_1)\n",
    "suma_1.extend(['Fisica'])\n",
    "print(suma_1)"
   ]
  },
  {
   "cell_type": "markdown",
   "id": "42a424de",
   "metadata": {},
   "source": [
    "13.2. \n",
    "- Usa la indexación para señalar a _RSP_."
   ]
  },
  {
   "cell_type": "code",
   "execution_count": 103,
   "id": "a453c0fe",
   "metadata": {},
   "outputs": [
    {
     "name": "stdout",
     "output_type": "stream",
     "text": [
      "RSP\n"
     ]
    }
   ],
   "source": [
    "cursos = [\"Historia\", \"Economia\", \"Antropologia\", \"RSP\", \"Derecho\"]\n",
    "print(cursos[3])"
   ]
  },
  {
   "cell_type": "markdown",
   "id": "f842a7f3",
   "metadata": {},
   "source": [
    "13.3.\n",
    "- Remueve el curso que menos te guste de la lista.\n"
   ]
  },
  {
   "cell_type": "code",
   "execution_count": 107,
   "id": "03d70f60",
   "metadata": {},
   "outputs": [
    {
     "name": "stdout",
     "output_type": "stream",
     "text": [
      "['Historia', 'Economia', 'Antropologia', 'RSP']\n"
     ]
    }
   ],
   "source": [
    "cursos = [\"Historia\", \"Economia\", \"Antropologia\", \"RSP\", \"Derecho\"]\n",
    "cursos.remove('Derecho')\n",
    "print(cursos)"
   ]
  },
  {
   "cell_type": "markdown",
   "id": "f9952c8d",
   "metadata": {},
   "source": [
    "14\n",
    "Tenemos los siguientes números: 30, 24, 54.2, 15.8, 145, 90, 100.\n",
    " - Crea una lista con ellos. \n",
    " - Ordena la lista de menor a mayor.\n",
    " - Saca el promedio de los números de la lista.  \n",
    "(Realiza cada uno en bloques separados)."
   ]
  },
  {
   "cell_type": "code",
   "execution_count": null,
   "id": "f0eb206f",
   "metadata": {},
   "outputs": [],
   "source": [
    "#creacion de lista\n",
    "list_1=[30, 24, 54.2, 15.8, 145, 90, 100]"
   ]
  },
  {
   "cell_type": "code",
   "execution_count": 109,
   "id": "025fe969-e728-43fb-bcf1-471705ecf437",
   "metadata": {},
   "outputs": [
    {
     "name": "stdout",
     "output_type": "stream",
     "text": [
      "[15.8, 24, 30, 54.2, 90, 100, 145]\n"
     ]
    }
   ],
   "source": [
    "#ordenar lista de menor a mayor\n",
    "list_1=[30, 24, 54.2, 15.8, 145, 90, 100]\n",
    "list_1.sort()\n",
    "print(list_1)"
   ]
  },
  {
   "cell_type": "code",
   "execution_count": 111,
   "id": "d0d12206-ec4a-4514-ba1b-980c5d771642",
   "metadata": {},
   "outputs": [
    {
     "name": "stdout",
     "output_type": "stream",
     "text": [
      "65.57142857142857\n"
     ]
    }
   ],
   "source": [
    "#promedio de numeros de lista\n",
    "list_1=[30, 24, 54.2, 15.8, 145, 90, 100]\n",
    "average=sum(list_1)/len(list_1)\n",
    "print(average)"
   ]
  },
  {
   "cell_type": "markdown",
   "id": "09559938",
   "metadata": {},
   "source": [
    "15.Utilizando un “if else” cree una estructura que evalúe “x” tal que:\n",
    "\n",
    "Si x es múltiplo de 2 imprima “Es múltiplo de 2”.\n",
    "\n",
    "Si x es múltiplo de 3 imprima “Es múltiplo de 3”\n",
    "\n",
    "Si x es múltiplo de 2 y 3 imprima “Es múltiplo de 2 y 3”\n",
    "\n",
    "Para otro caso, imprime “Otro caso”\n",
    "Muestra un ejemplo con x = 6.\n",
    "\n"
   ]
  },
  {
   "cell_type": "code",
   "execution_count": 178,
   "id": "22d1cd25-24fe-4fb9-8d73-24a859eb6562",
   "metadata": {},
   "outputs": [
    {
     "name": "stdout",
     "output_type": "stream",
     "text": [
      "Es multiplo de 2 y 3\n"
     ]
    }
   ],
   "source": [
    "numero=6\n",
    "if numero%2==0 and numero%3==0:\n",
    "    print('Es multiplo de 2 y 3')\n",
    "elif numero%2==0:\n",
    "    print('Es multiplo de 2')\n",
    "elif numero%3==0:\n",
    "    print('Es multiplo de 3')\n",
    "else:\n",
    "    print('Es otro caso')\n",
    "    \n",
    "    "
   ]
  },
  {
   "cell_type": "markdown",
   "id": "ab0213b2",
   "metadata": {},
   "source": [
    "16.Crea una función llamada clasificar_edad() que reciba como parámetro la edad de una\n",
    "persona. La función debe clasificar a la persona en una de las siguientes categorías:\n",
    "\n",
    "\"Niño\" si la edad es menor de 12 años.\n",
    "\n",
    "\"Adolescente\" si la edad está entre 12 y 17 años.\n",
    "\n",
    "“Joven” si la edad está entre 18 y 24 años.\n",
    "\n",
    "\"Adulto\" si la edad está entre 25 y 64 años.\n",
    "\n",
    "\"Adulto Mayor\" si la edad es mayor o igual a 65 años.\n",
    "\n",
    "La función debe devolver la categoría correspondiente. Prueba la función con las edades de\n",
    "10, 19, 25 y 70."
   ]
  },
  {
   "cell_type": "code",
   "execution_count": 242,
   "id": "7cdc55b3",
   "metadata": {},
   "outputs": [
    {
     "name": "stdout",
     "output_type": "stream",
     "text": [
      "Adulto\n"
     ]
    }
   ],
   "source": [
    "def clasificar_edad(n):\n",
    "    if n<12:\n",
    "        resultado=print('Niño')\n",
    "    elif 12<=n<=17:\n",
    "        resultado=print('Adolescente')\n",
    "    elif 18<=n<=24:\n",
    "        resultado=print('Joven')\n",
    "    elif 25<=n<=64:\n",
    "        resultado=print('Adulto')\n",
    "    elif n>=65:\n",
    "        resultado=print('Adulto Mayor')\n",
    "        return resultado\n",
    "clasificar_edad(47)"
   ]
  },
  {
   "cell_type": "code",
   "execution_count": 244,
   "id": "210c52bc-941b-42e2-8699-605f7ced83f7",
   "metadata": {},
   "outputs": [
    {
     "name": "stdout",
     "output_type": "stream",
     "text": [
      "Niño\n"
     ]
    }
   ],
   "source": [
    "clasificar_edad(10)"
   ]
  },
  {
   "cell_type": "code",
   "execution_count": 246,
   "id": "64e7e8b4-4959-4a76-aa05-0cac69685c75",
   "metadata": {},
   "outputs": [
    {
     "name": "stdout",
     "output_type": "stream",
     "text": [
      "Joven\n"
     ]
    }
   ],
   "source": [
    "clasificar_edad(19)"
   ]
  },
  {
   "cell_type": "code",
   "execution_count": 248,
   "id": "9f55f4c2-ea05-487d-a06a-3f11ee949670",
   "metadata": {},
   "outputs": [
    {
     "name": "stdout",
     "output_type": "stream",
     "text": [
      "Adulto\n"
     ]
    }
   ],
   "source": [
    "clasificar_edad(25)"
   ]
  },
  {
   "cell_type": "code",
   "execution_count": 250,
   "id": "76f6dd63-a043-4c34-b45f-f3d95f148f6f",
   "metadata": {},
   "outputs": [
    {
     "name": "stdout",
     "output_type": "stream",
     "text": [
      "Adulto Mayor\n"
     ]
    }
   ],
   "source": [
    "clasificar_edad(70)"
   ]
  }
 ],
 "metadata": {
  "kernelspec": {
   "display_name": "Python [conda env:base] *",
   "language": "python",
   "name": "conda-base-py"
  },
  "language_info": {
   "codemirror_mode": {
    "name": "ipython",
    "version": 3
   },
   "file_extension": ".py",
   "mimetype": "text/x-python",
   "name": "python",
   "nbconvert_exporter": "python",
   "pygments_lexer": "ipython3",
   "version": "3.12.7"
  }
 },
 "nbformat": 4,
 "nbformat_minor": 5
}
